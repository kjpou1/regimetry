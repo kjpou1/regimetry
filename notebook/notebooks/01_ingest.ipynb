{
 "cells": [
  {
   "cell_type": "markdown",
   "id": "24fbef22",
   "metadata": {},
   "source": [
    "# Ingest starts here"
   ]
  }
 ],
 "metadata": {
  "kernelspec": {
   "display_name": ".venv",
   "language": "python",
   "name": "python3"
  },
  "language_info": {
   "name": "python",
   "version": "3.12.7"
  }
 },
 "nbformat": 4,
 "nbformat_minor": 5
}
