{
 "cells": [
  {
   "cell_type": "code",
   "execution_count": 1,
   "id": "17732df0",
   "metadata": {},
   "outputs": [],
   "source": [
    "import pandas as pd\n",
    "import seaborn as sns\n",
    "import matplotlib.pyplot as plt\n"
   ]
  },
  {
   "cell_type": "code",
   "execution_count": 2,
   "id": "d38e8c6e",
   "metadata": {},
   "outputs": [
    {
     "name": "stdout",
     "output_type": "stream",
     "text": [
      "                     Signal True_Count  Percent_True\n",
      "0                Trend_Bull        325         17.39\n",
      "1                Trend_Bear        323         17.28\n",
      "2            Expansion_Bull        588         31.46\n",
      "3            Expansion_Bear        620         33.17\n",
      "4  Momentum_Divergence_Bull         77          4.12\n",
      "5  Momentum_Divergence_Bear         80          4.28\n",
      "6   Classic_Divergence_Bull        150          8.03\n",
      "7   Classic_Divergence_Bear        142          7.60\n",
      "8                  RHD_Bull          0          0.00\n",
      "9                  RHD_Bear          0          0.00\n"
     ]
    },
    {
     "name": "stderr",
     "output_type": "stream",
     "text": [
      "/var/folders/4q/cv174s2d24n6j71rjjzfsk6w0000gn/T/ipykernel_8136/1442382780.py:19: FutureWarning: The behavior of DataFrame concatenation with empty or all-NA entries is deprecated. In a future version, this will no longer exclude empty or all-NA columns when determining the result dtypes. To retain the old behavior, exclude the relevant entries before the concat operation.\n",
      "  regime_summary = pd.concat([regime_summary, pd.DataFrame([{\n"
     ]
    }
   ],
   "source": [
    "# Load the uploaded data\n",
    "file_path = \"../../artifacts/data/processed/regime_input.csv\"\n",
    "df = pd.read_csv(file_path)\n",
    "\n",
    "# Identify regime-related boolean columns (those ending in _Bull or _Bear)\n",
    "regime_columns = [col for col in df.columns if any(col.endswith(suffix) for suffix in [\"_Bull\", \"_Bear\"])]\n",
    "\n",
    "# Calculate frequency and percentage for each regime column\n",
    "regime_summary = pd.DataFrame(columns=[\"Signal\", \"True_Count\", \"Percent_True\"])\n",
    "\n",
    "total_rows = len(df)\n",
    "for col in regime_columns:\n",
    "    # Ensure the column is treated as boolean (True/False) or numeric (0/1)\n",
    "    df[col] = pd.to_numeric(df[col], errors='coerce').fillna(0).astype(int)  # Convert to 0/1 if necessary\n",
    "    \n",
    "    # Now calculate the true count\n",
    "    true_count = df[col].sum()\n",
    "    percent_true = (true_count / total_rows) * 100\n",
    "    regime_summary = pd.concat([regime_summary, pd.DataFrame([{\n",
    "        \"Signal\": col,\n",
    "        \"True_Count\": int(true_count),\n",
    "        \"Percent_True\": round(percent_true, 2)\n",
    "    }])], ignore_index=True)\n",
    "\n",
    "# Display the summary\n",
    "print(regime_summary)\n"
   ]
  },
  {
   "cell_type": "code",
   "execution_count": 3,
   "id": "30a4584c",
   "metadata": {},
   "outputs": [
    {
     "data": {
      "text/html": [
       "<div>\n",
       "<style scoped>\n",
       "    .dataframe tbody tr th:only-of-type {\n",
       "        vertical-align: middle;\n",
       "    }\n",
       "\n",
       "    .dataframe tbody tr th {\n",
       "        vertical-align: top;\n",
       "    }\n",
       "\n",
       "    .dataframe thead th {\n",
       "        text-align: right;\n",
       "    }\n",
       "</style>\n",
       "<table border=\"1\" class=\"dataframe\">\n",
       "  <thead>\n",
       "    <tr style=\"text-align: right;\">\n",
       "      <th></th>\n",
       "      <th>Signal</th>\n",
       "      <th>True_Count</th>\n",
       "      <th>Percent_True</th>\n",
       "    </tr>\n",
       "  </thead>\n",
       "  <tbody>\n",
       "    <tr>\n",
       "      <th>0</th>\n",
       "      <td>Trend_Bull</td>\n",
       "      <td>325</td>\n",
       "      <td>17.39</td>\n",
       "    </tr>\n",
       "    <tr>\n",
       "      <th>1</th>\n",
       "      <td>Trend_Bear</td>\n",
       "      <td>323</td>\n",
       "      <td>17.28</td>\n",
       "    </tr>\n",
       "    <tr>\n",
       "      <th>2</th>\n",
       "      <td>Expansion_Bull</td>\n",
       "      <td>588</td>\n",
       "      <td>31.46</td>\n",
       "    </tr>\n",
       "    <tr>\n",
       "      <th>3</th>\n",
       "      <td>Expansion_Bear</td>\n",
       "      <td>620</td>\n",
       "      <td>33.17</td>\n",
       "    </tr>\n",
       "    <tr>\n",
       "      <th>4</th>\n",
       "      <td>Momentum_Divergence_Bull</td>\n",
       "      <td>77</td>\n",
       "      <td>4.12</td>\n",
       "    </tr>\n",
       "    <tr>\n",
       "      <th>5</th>\n",
       "      <td>Momentum_Divergence_Bear</td>\n",
       "      <td>80</td>\n",
       "      <td>4.28</td>\n",
       "    </tr>\n",
       "    <tr>\n",
       "      <th>6</th>\n",
       "      <td>Classic_Divergence_Bull</td>\n",
       "      <td>150</td>\n",
       "      <td>8.03</td>\n",
       "    </tr>\n",
       "    <tr>\n",
       "      <th>7</th>\n",
       "      <td>Classic_Divergence_Bear</td>\n",
       "      <td>142</td>\n",
       "      <td>7.60</td>\n",
       "    </tr>\n",
       "    <tr>\n",
       "      <th>8</th>\n",
       "      <td>RHD_Bull</td>\n",
       "      <td>0</td>\n",
       "      <td>0.00</td>\n",
       "    </tr>\n",
       "    <tr>\n",
       "      <th>9</th>\n",
       "      <td>RHD_Bear</td>\n",
       "      <td>0</td>\n",
       "      <td>0.00</td>\n",
       "    </tr>\n",
       "  </tbody>\n",
       "</table>\n",
       "</div>"
      ],
      "text/plain": [
       "                     Signal True_Count  Percent_True\n",
       "0                Trend_Bull        325         17.39\n",
       "1                Trend_Bear        323         17.28\n",
       "2            Expansion_Bull        588         31.46\n",
       "3            Expansion_Bear        620         33.17\n",
       "4  Momentum_Divergence_Bull         77          4.12\n",
       "5  Momentum_Divergence_Bear         80          4.28\n",
       "6   Classic_Divergence_Bull        150          8.03\n",
       "7   Classic_Divergence_Bear        142          7.60\n",
       "8                  RHD_Bull          0          0.00\n",
       "9                  RHD_Bear          0          0.00"
      ]
     },
     "execution_count": 3,
     "metadata": {},
     "output_type": "execute_result"
    }
   ],
   "source": [
    "regime_summary"
   ]
  },
  {
   "cell_type": "code",
   "execution_count": 4,
   "id": "1d23b920",
   "metadata": {},
   "outputs": [
    {
     "data": {
      "image/png": "[encoded data removed]",
      "text/plain": [
       "<Figure size 1200x1000 with 2 Axes>"
      ]
     },
     "metadata": {},
     "output_type": "display_data"
    }
   ],
   "source": [
    "# Define all the binary signal columns\n",
    "signal_cols = [\n",
    "    \"Trend_Bull\", \"Trend_Bear\",\n",
    "    \"Expansion_Bull\", \"Expansion_Bear\",\n",
    "    \"Momentum_Divergence_Bull\", \"Momentum_Divergence_Bear\",\n",
    "    \"Classic_Divergence_Bull\", \"Classic_Divergence_Bear\",\n",
    "    \"RHD_Bull\", \"RHD_Bear\",\n",
    "]\n",
    "\n",
    "# Ensure they are boolean\n",
    "df[signal_cols] = df[signal_cols].astype(bool)\n",
    "\n",
    "# Compute co-occurrence counts\n",
    "co_occurrence = pd.DataFrame(index=signal_cols, columns=signal_cols)\n",
    "\n",
    "for col1 in signal_cols:\n",
    "    for col2 in signal_cols:\n",
    "        co_occurrence.loc[col1, col2] = ((df[col1]) & (df[col2])).sum()\n",
    "\n",
    "co_occurrence = co_occurrence.astype(int)\n",
    "\n",
    "# Optional: Heatmap\n",
    "plt.figure(figsize=(12, 10))\n",
    "sns.heatmap(co_occurrence, annot=True, fmt=\"d\", cmap=\"Blues\")\n",
    "plt.title(\"Signal Co-Occurrence Matrix\")\n",
    "plt.show()"
   ]
  },
  {
   "cell_type": "code",
   "execution_count": 5,
   "id": "31efff6c",
   "metadata": {},
   "outputs": [],
   "source": [
    "# Convert boolean columns if needed (ensure True/False are 1/0)\n",
    "binary_cols = [col for col in df.columns if col.endswith(\"_Bull\") or col.endswith(\"_Bear\")]\n",
    "df[binary_cols] = df[binary_cols].astype(bool)\n",
    "\n",
    "# --- Check 1: Conflicting signal flags (e.g., both Bull and Bear on same row) ---\n",
    "conflicts = {}\n",
    "\n",
    "# Grouped conflict checks\n",
    "signal_groups = [\n",
    "    (\"Trend_Bull\", \"Trend_Bear\"),\n",
    "    (\"Expansion_Bull\", \"Expansion_Bear\"),\n",
    "    (\"Momentum_Divergence_Bull\", \"Momentum_Divergence_Bear\"),\n",
    "    (\"Classic_Divergence_Bull\", \"Classic_Divergence_Bear\"),\n",
    "    (\"RHD_Bull\", \"RHD_Bear\"),\n",
    "]\n",
    "\n",
    "for bull_col, bear_col in signal_groups:\n",
    "    conflict_rows = df[df[bull_col] & df[bear_col]]\n",
    "    conflicts[f\"{bull_col} & {bear_col}\"] = len(conflict_rows)\n",
    "\n",
    "# --- Check 2: Alignment with ML outputs ---\n",
    "alignment = {\n",
    "    \"Buy_with_Bull_Signal\": df[(df[\"ML_Trade_Direction\"] == \"Buy\") & (df[\"Trend_Bull\"])].shape[0],\n",
    "    \"Sell_with_Bear_Signal\": df[(df[\"ML_Trade_Direction\"] == \"Sell\") & (df[\"Trend_Bear\"])].shape[0],\n",
    "    \"Flat_with_No_Trend\": df[\n",
    "        (df[\"ML_Trade_Direction\"] == \"Flat\") &\n",
    "        (~df[\"Trend_Bull\"]) & (~df[\"Trend_Bear\"])\n",
    "    ].shape[0],\n",
    "}\n",
    "\n"
   ]
  },
  {
   "cell_type": "code",
   "execution_count": 6,
   "id": "968c7d4d",
   "metadata": {},
   "outputs": [
    {
     "data": {
      "text/plain": [
       "{'Trend_Bull & Trend_Bear': 0,\n",
       " 'Expansion_Bull & Expansion_Bear': 0,\n",
       " 'Momentum_Divergence_Bull & Momentum_Divergence_Bear': 0,\n",
       " 'Classic_Divergence_Bull & Classic_Divergence_Bear': 0,\n",
       " 'RHD_Bull & RHD_Bear': 0}"
      ]
     },
     "execution_count": 6,
     "metadata": {},
     "output_type": "execute_result"
    }
   ],
   "source": [
    "conflicts"
   ]
  },
  {
   "cell_type": "code",
   "execution_count": 7,
   "id": "62eb08e2",
   "metadata": {},
   "outputs": [
    {
     "name": "stdout",
     "output_type": "stream",
     "text": [
      "Trend_Bull & Trend_Bear: 0 conflicts\n",
      "Expansion_Bull & Expansion_Bear: 0 conflicts\n",
      "Momentum_Divergence_Bull & Momentum_Divergence_Bear: 0 conflicts\n",
      "Classic_Divergence_Bull & Classic_Divergence_Bear: 0 conflicts\n",
      "RHD_Bull & RHD_Bear: 0 conflicts\n"
     ]
    }
   ],
   "source": [
    "# List of pairs of opposing signals\n",
    "opposing_signal_pairs = [\n",
    "    ('Trend_Bull', 'Trend_Bear'),\n",
    "    ('Expansion_Bull', 'Expansion_Bear'),\n",
    "    ('Momentum_Divergence_Bull', 'Momentum_Divergence_Bear'),\n",
    "    ('Classic_Divergence_Bull', 'Classic_Divergence_Bear'),\n",
    "    ('RHD_Bull', 'RHD_Bear'),\n",
    "]\n",
    "\n",
    "# Dictionary to store conflict counts\n",
    "signal_conflicts = {}\n",
    "\n",
    "# Loop through the pairs and check for conflicts\n",
    "for signal_1, signal_2 in opposing_signal_pairs:\n",
    "    conflict_count = ((df[signal_1] == True) & (df[signal_2] == True)).sum()\n",
    "    signal_conflicts[f'{signal_1} & {signal_2}'] = conflict_count\n",
    "\n",
    "# Print the result\n",
    "for signal_pair, conflict_count in signal_conflicts.items():\n",
    "    print(f'{signal_pair}: {conflict_count} conflicts')"
   ]
  },
  {
   "cell_type": "code",
   "execution_count": 8,
   "id": "b37da317",
   "metadata": {},
   "outputs": [
    {
     "data": {
      "text/plain": [
       "{'Buy_with_Bull_Signal': 132,\n",
       " 'Sell_with_Bear_Signal': 147,\n",
       " 'Flat_with_No_Trend': 482}"
      ]
     },
     "execution_count": 8,
     "metadata": {},
     "output_type": "execute_result"
    }
   ],
   "source": [
    "alignment"
   ]
  },
  {
   "cell_type": "markdown",
   "id": "2f63a3ca",
   "metadata": {},
   "source": [
    "Here is a description for each of the alignment conditions:\n",
    "\n",
    "### 1. **Buy with Bull Signal**\n",
    "\n",
    "* **Condition:** This counts how many instances in the dataset have an ML prediction of **Buy** and are also accompanied by a **Bullish Trend** signal.\n",
    "* **Interpretation:** This represents the cases where both the model's prediction and the trend analysis align, signaling a clear Buy opportunity when a Bullish trend is detected.\n",
    "\n",
    "### 2. **Sell with Bear Signal**\n",
    "\n",
    "* **Condition:** This counts how many instances in the dataset have an ML prediction of **Sell** and are accompanied by a **Bearish Trend** signal.\n",
    "* **Interpretation:** This represents the cases where both the model's prediction and the trend analysis align, signaling a Sell opportunity when a Bearish trend is detected.\n",
    "\n",
    "### 3. **Flat with No Trend**\n",
    "\n",
    "* **Condition:** This counts how many instances in the dataset have an ML prediction of **Flat** (indicating no action) and no detected **Trend** (i.e., no Bullish or Bearish trend).\n",
    "* **Interpretation:** This represents the cases where the model predicts no action (Flat), and the trend signal shows no significant trend. It’s useful for ensuring that the model doesn't wrongly call a \"Flat\" when there is a trend in the market.\n",
    "\n",
    "### 4. **Buy with Bearish Signal**\n",
    "\n",
    "* **Condition:** This counts how many instances in the dataset have an ML prediction of **Buy** and are accompanied by a **Bearish Trend** signal.\n",
    "* **Interpretation:** This represents conflicting signals where the model predicts a Buy (which implies a bullish market expectation) while the trend indicates a Bearish condition. These might be useful to evaluate for potential misalignments or model confusion.\n",
    "\n",
    "### 5. **Sell with Bullish Signal**\n",
    "\n",
    "* **Condition:** This counts how many instances in the dataset have an ML prediction of **Sell** and are accompanied by a **Bullish Trend** signal.\n",
    "* **Interpretation:** Similar to the above, this is a conflict between the model’s Sell signal and a Bullish trend signal. The model predicts a Sell (which implies a bearish market expectation), while the trend shows a Bullish signal.\n",
    "\n",
    "### 6. **Flat with Bullish Trend**\n",
    "\n",
    "* **Condition:** This counts how many instances in the dataset have an ML prediction of **Flat** (no action) while there is a detected **Bullish Trend**.\n",
    "* **Interpretation:** This shows cases where the model predicts \"no action\" (Flat) despite a Bullish trend being present. It could be useful for investigating whether the model is missing or downplaying strong trends.\n",
    "\n",
    "### 7. **Flat with Bearish Trend**\n",
    "\n",
    "* **Condition:** This counts how many instances in the dataset have an ML prediction of **Flat** (no action) while there is a detected **Bearish Trend**.\n",
    "* **Interpretation:** This shows cases where the model predicts \"no action\" (Flat) despite a Bearish trend being present. Like the \"Flat with Bullish Trend,\" this can be valuable for investigating potential under-reaction by the model to strong market signals.\n",
    "\n",
    "### 8. **Buy with No Trend**\n",
    "\n",
    "* **Condition:** This counts how many instances in the dataset have an ML prediction of **Buy** but no detected **Trend**.\n",
    "* **Interpretation:** This represents cases where the model predicts a Buy signal without any supporting trend information. This could indicate situations where the model is acting on its own (perhaps a technical signal or event) rather than relying on trends.\n",
    "\n",
    "### 9. **Sell with No Trend**\n",
    "\n",
    "* **Condition:** This counts how many instances in the dataset have an ML prediction of **Sell** but no detected **Trend**.\n",
    "* **Interpretation:** This represents cases where the model predicts a Sell signal without any supporting trend information. It might indicate a Sell action based purely on technical signals or market conditions that are not aligned with a clear trend.\n",
    "\n",
    "---\n",
    "\n",
    "Each of these conditions helps us understand how often the model’s predictions align or conflict with the trend signals. It’s essential for fine-tuning the model and understanding where it is performing well or needs improvement, especially in ambiguous market conditions.\n"
   ]
  },
  {
   "cell_type": "code",
   "execution_count": 9,
   "id": "32a2cea9",
   "metadata": {},
   "outputs": [
    {
     "name": "stdout",
     "output_type": "stream",
     "text": [
      "Buy_with_Bull_Signal: 132\n",
      "Sell_with_Bear_Signal: 147\n",
      "Flat_with_No_Trend: 0\n"
     ]
    }
   ],
   "source": [
    "# Define your ML predictions and signals\n",
    "ml_column = 'ML_Trade_Direction'  # Example: ML predictions (Buy/Sell/Flat)\n",
    "\n",
    "# Define the signal columns to align with ML predictions\n",
    "bull_signal = 'Trend_Bull'  # Example: Bullish signal\n",
    "bear_signal = 'Trend_Bear'  # Example: Bearish signal\n",
    "no_trend_signal = 'Trend'  # Example: No trend signal (Flat)\n",
    "\n",
    "# Create a dictionary to store alignment counts\n",
    "signal_alignment = {\n",
    "    'Buy_with_Bull_Signal': 0,\n",
    "    'Sell_with_Bear_Signal': 0,\n",
    "    'Flat_with_No_Trend': 0\n",
    "}\n",
    "\n",
    "# Check alignment\n",
    "signal_alignment['Buy_with_Bull_Signal'] = ((df[ml_column] == 'Buy') & (df[bull_signal] == True)).sum()\n",
    "signal_alignment['Sell_with_Bear_Signal'] = ((df[ml_column] == 'Sell') & (df[bear_signal] == True)).sum()\n",
    "signal_alignment['Flat_with_No_Trend'] = ((df[ml_column] == 'Flat') & (df[no_trend_signal] == False)).sum()\n",
    "\n",
    "# Print the alignment results\n",
    "for alignment, count in signal_alignment.items():\n",
    "    print(f'{alignment}: {count}')"
   ]
  },
  {
   "cell_type": "code",
   "execution_count": 10,
   "id": "29124632",
   "metadata": {},
   "outputs": [
    {
     "data": {
      "text/plain": [
       "[]"
      ]
     },
     "execution_count": 10,
     "metadata": {},
     "output_type": "execute_result"
    }
   ],
   "source": [
    "# Identify columns that contain NaN values\n",
    "# file_path = \"../../artifacts/data/processed/train.csv\"\n",
    "# df = pd.read_csv(file_path)\n",
    "nan_columns = df.columns[df.isna().any()].tolist()\n",
    "\n",
    "nan_columns"
   ]
  },
  {
   "cell_type": "code",
   "execution_count": 11,
   "id": "a7530c1f",
   "metadata": {},
   "outputs": [
    {
     "name": "stdout",
     "output_type": "stream",
     "text": [
      "Columns with NaN values and their counts:\n",
      "Series([], dtype: int64)\n"
     ]
    }
   ],
   "source": [
    "# Count the number of NaN values per column\n",
    "na_counts = df.isna().sum()\n",
    "\n",
    "# Filter columns that have at least one NaN value\n",
    "columns_with_na = na_counts[na_counts > 0]\n",
    "\n",
    "# Print the result\n",
    "print(\"Columns with NaN values and their counts:\")\n",
    "print(columns_with_na)"
   ]
  },
  {
   "cell_type": "code",
   "execution_count": 12,
   "id": "9dfbcd1d",
   "metadata": {},
   "outputs": [
    {
     "data": {
      "text/plain": [
       "array(['Flat', 'Bullish', 'Bearish'], dtype=object)"
      ]
     },
     "execution_count": 12,
     "metadata": {},
     "output_type": "execute_result"
    }
   ],
   "source": [
    "# give us the unique values\n",
    "unique_values = df['Prevailing_Trend'].unique()\n",
    "unique_values"
   ]
  },
  {
   "cell_type": "code",
   "execution_count": 13,
   "id": "958b7ed7",
   "metadata": {},
   "outputs": [
    {
     "data": {
      "text/plain": [
       "array(['Flat', 'Bullish', 'Bearish'], dtype=object)"
      ]
     },
     "execution_count": 13,
     "metadata": {},
     "output_type": "execute_result"
    }
   ],
   "source": [
    "# give us the unique values\n",
    "unique_values = df['Baseline_Aligned'].unique()\n",
    "unique_values"
   ]
  },
  {
   "cell_type": "code",
   "execution_count": 14,
   "id": "87bfda0d",
   "metadata": {},
   "outputs": [
    {
     "data": {
      "text/plain": [
       "array(['Flat', 'Bullish', 'Bearish'], dtype=object)"
      ]
     },
     "execution_count": 14,
     "metadata": {},
     "output_type": "execute_result"
    }
   ],
   "source": [
    "# give us the unique values\n",
    "unique_values = df['Trend_Agreement'].unique()\n",
    "unique_values"
   ]
  },
  {
   "cell_type": "code",
   "execution_count": 15,
   "id": "d25a3dbb",
   "metadata": {},
   "outputs": [
    {
     "data": {
      "text/plain": [
       "array(['Flat', 'Bullish', 'Bearish'], dtype=object)"
      ]
     },
     "execution_count": 15,
     "metadata": {},
     "output_type": "execute_result"
    }
   ],
   "source": [
    "# give us the unique values\n",
    "unique_values = df['Entry_Trigger'].unique()\n",
    "unique_values"
   ]
  },
  {
   "cell_type": "code",
   "execution_count": 16,
   "id": "763b5a07",
   "metadata": {},
   "outputs": [
    {
     "data": {
      "text/plain": [
       "array(['Flat', 'Bearish', 'Bullish'], dtype=object)"
      ]
     },
     "execution_count": 16,
     "metadata": {},
     "output_type": "execute_result"
    }
   ],
   "source": [
    "# give us the unique values\n",
    "unique_values = df['Entry_Confirmed'].unique()\n",
    "unique_values"
   ]
  },
  {
   "cell_type": "code",
   "execution_count": 17,
   "id": "538f7dd6",
   "metadata": {},
   "outputs": [
    {
     "data": {
      "text/plain": [
       "array([False])"
      ]
     },
     "execution_count": 17,
     "metadata": {},
     "output_type": "execute_result"
    }
   ],
   "source": [
    "# give us the unique values\n",
    "unique_values = df['RHD_Bull'].unique()\n",
    "unique_values"
   ]
  },
  {
   "cell_type": "code",
   "execution_count": 18,
   "id": "eed2860a",
   "metadata": {},
   "outputs": [
    {
     "data": {
      "text/plain": [
       "array([False])"
      ]
     },
     "execution_count": 18,
     "metadata": {},
     "output_type": "execute_result"
    }
   ],
   "source": [
    "# give us the unique values\n",
    "unique_values = df['RHD_Bear'].unique()\n",
    "unique_values"
   ]
  }
 ],
 "metadata": {
  "kernelspec": {
   "display_name": ".venv",
   "language": "python",
   "name": "python3"
  },
  "language_info": {
   "codemirror_mode": {
    "name": "ipython",
    "version": 3
   },
   "file_extension": ".py",
   "mimetype": "text/x-python",
   "name": "python",
   "nbconvert_exporter": "python",
   "pygments_lexer": "ipython3",
   "version": "3.12.4"
  }
 },
 "nbformat": 4,
 "nbformat_minor": 5
}
