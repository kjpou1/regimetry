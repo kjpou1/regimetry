{
 "cells": [
  {
   "cell_type": "code",
   "execution_count": 32,
   "id": "cb500211",
   "metadata": {},
   "outputs": [],
   "source": [
    "import pandas as pd\n",
    "import numpy as np\n",
    "import json\n",
    "import os\n",
    "from pathlib import Path\n"
   ]
  },
  {
   "cell_type": "code",
   "execution_count": 33,
   "id": "bd900e19",
   "metadata": {},
   "outputs": [],
   "source": [
    "regime_df_1 = pd.read_csv(\n",
    "    \"../../artifacts/reports/GBP_USD/ws5/learnable64/default/nc8/regime_assignments_26.csv\"\n",
    ")"
   ]
  },
  {
   "cell_type": "code",
   "execution_count": 34,
   "id": "f8844e4d",
   "metadata": {},
   "outputs": [],
   "source": [
    "regime_df_2 = pd.read_csv(\n",
    "    \"../../artifacts/reports/GBP_USD/ws5/learnable64/default/nc8/regime_assignments_27.csv\"\n",
    ")"
   ]
  },
  {
   "cell_type": "code",
   "execution_count": 35,
   "id": "d0663b78",
   "metadata": {},
   "outputs": [],
   "source": [
    "# Extract and align Cluster_ID columns\n",
    "clusters_1 = regime_df_1[\"Cluster_ID\"].dropna().astype(int).reset_index(drop=True)\n",
    "clusters_2 = regime_df_2[\"Cluster_ID\"].dropna().astype(int).reset_index(drop=True)"
   ]
  },
  {
   "cell_type": "code",
   "execution_count": 36,
   "id": "6cdaf971",
   "metadata": {},
   "outputs": [
    {
     "name": "stdout",
     "output_type": "stream",
     "text": [
      "⚠️ Length mismatch: File 1 = 1881, File 2 = 1882\n"
     ]
    }
   ],
   "source": [
    "# Warn if lengths differ\n",
    "if len(clusters_1) != len(clusters_2):\n",
    "    print(f\"⚠️ Length mismatch: File 1 = {len(clusters_1)}, File 2 = {len(clusters_2)}\")"
   ]
  },
  {
   "cell_type": "code",
   "execution_count": 37,
   "id": "30d01fa2",
   "metadata": {},
   "outputs": [
    {
     "name": "stdout",
     "output_type": "stream",
     "text": [
      "🔍 Total differing Cluster_ID rows (first 1881 rows): 3\n",
      "📍 Indices with differences: [275, 684, 717]\n"
     ]
    }
   ],
   "source": [
    "# Compare overlapping portion\n",
    "min_len = min(len(clusters_1), len(clusters_2))\n",
    "differences = clusters_1.iloc[:min_len].values != clusters_2.iloc[:min_len].values\n",
    "num_different = differences.sum()\n",
    "diff_indices = clusters_1.iloc[:min_len].index[differences].tolist()\n",
    "\n",
    "print(f\"🔍 Total differing Cluster_ID rows (first {min_len} rows): {num_different}\")\n",
    "print(f\"📍 Indices with differences: {diff_indices}\")"
   ]
  },
  {
   "cell_type": "code",
   "execution_count": 38,
   "id": "8aff8b22",
   "metadata": {},
   "outputs": [
    {
     "name": "stdout",
     "output_type": "stream",
     "text": [
      "✅ Unique Cluster_IDs in File 1: [0, 1, 2, 3, 4, 5, 6, 7]\n",
      "✅ Unique Cluster_IDs in File 2: [0, 1, 2, 3, 4, 5, 6, 7]\n",
      "🎯 Unique cluster IDs are identical.\n"
     ]
    }
   ],
   "source": [
    "# Convert to regular ints for display\n",
    "unique_1 = sorted(int(i) for i in clusters_1.unique())\n",
    "unique_2 = sorted(int(i) for i in clusters_2.unique())\n",
    "\n",
    "print(f\"✅ Unique Cluster_IDs in File 1: {unique_1}\")\n",
    "print(f\"✅ Unique Cluster_IDs in File 2: {unique_2}\")\n",
    "\n",
    "if unique_1 == unique_2:\n",
    "    print(\"🎯 Unique cluster IDs are identical.\")\n",
    "else:\n",
    "    print(\"⚠️ Unique cluster IDs differ.\")"
   ]
  }
 ],
 "metadata": {
  "kernelspec": {
   "display_name": ".venv",
   "language": "python",
   "name": "python3"
  },
  "language_info": {
   "codemirror_mode": {
    "name": "ipython",
    "version": 3
   },
   "file_extension": ".py",
   "mimetype": "text/x-python",
   "name": "python",
   "nbconvert_exporter": "python",
   "pygments_lexer": "ipython3",
   "version": "3.12.4"
  }
 },
 "nbformat": 4,
 "nbformat_minor": 5
}
