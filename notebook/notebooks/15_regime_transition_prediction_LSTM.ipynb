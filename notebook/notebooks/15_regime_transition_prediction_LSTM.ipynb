{
 "cells": [
  {
   "cell_type": "code",
   "execution_count": 23,
   "id": "9a3c31c8",
   "metadata": {},
   "outputs": [],
   "source": [
    "import pandas as pd\n",
    "from os import path\n",
    "import numpy as np\n",
    "\n",
    "import tensorflow as tf\n",
    "from tensorflow.keras.models import Sequential\n",
    "from tensorflow.keras.layers import Embedding, LSTM, Dense, Dropout\n",
    "from tensorflow.keras.callbacks import EarlyStopping\n",
    "\n",
    "from sklearn.preprocessing import LabelEncoder\n",
    "from sklearn.model_selection import train_test_split\n",
    "from sklearn.utils.class_weight import compute_class_weight\n",
    "\n",
    "\n",
    "from regimetry.config import Config\n",
    "from regimetry.logger_manager import LoggerManager\n"
   ]
  },
  {
   "cell_type": "code",
   "execution_count": 24,
   "id": "36415207",
   "metadata": {},
   "outputs": [],
   "source": [
    "\n",
    "logging = LoggerManager.get_logger(\"regime_transistion_predictions\")"
   ]
  },
  {
   "cell_type": "code",
   "execution_count": 25,
   "id": "4dfce767",
   "metadata": {},
   "outputs": [
    {
     "name": "stdout",
     "output_type": "stream",
     "text": [
      "PROJECT ROOT: /Users/kenneth/Public/projects/python/ai/regimetry\n",
      "BASE DIR: /Users/kenneth/Public/projects/python/ai/regimetry/artifacts\n",
      "RAW DATA: /Users/kenneth/Public/projects/python/ai/regimetry/artifacts/data/raw\n",
      "PROCESSED DATA: /Users/kenneth/Public/projects/python/ai/regimetry/artifacts/data/processed\n",
      "EMBEDDINGS DATA: /Users/kenneth/Public/projects/python/ai/regimetry/artifacts/embeddings\n",
      "REPORTS DATA: /Users/kenneth/Public/projects/python/ai/regimetry/artifacts/reports\n"
     ]
    }
   ],
   "source": [
    "cfg = Config()\n",
    "print(\"PROJECT ROOT:\", cfg.PROJECT_ROOT)\n",
    "print(\"BASE DIR:\", cfg.BASE_DIR)\n",
    "print(\"RAW DATA:\", cfg.RAW_DATA_DIR)\n",
    "print(\"PROCESSED DATA:\", cfg.PROCESSED_DATA_DIR)\n",
    "print(\"EMBEDDINGS DATA:\", cfg.EMBEDDINGS_DIR) \n",
    "print(\"REPORTS DATA:\", cfg.REPORTS_DIR) "
   ]
  },
  {
   "cell_type": "code",
   "execution_count": 26,
   "id": "38456767",
   "metadata": {},
   "outputs": [],
   "source": [
    "cluster_path = path.join(cfg.REPORTS_DIR,\"CAD_CHF_ws5_learnable80_nc12\", \"cluster_assignments.csv\")\n"
   ]
  },
  {
   "cell_type": "code",
   "execution_count": 27,
   "id": "1b415dc9",
   "metadata": {},
   "outputs": [],
   "source": [
    "# Re-define the cluster_seq and rebuild the dataset to ensure y is available in this session\n",
    "df = pd.read_csv(cluster_path)\n",
    "cluster_ids = df[\"Cluster_ID\"].dropna().astype(int).tolist()\n",
    "\n"
   ]
  },
  {
   "cell_type": "code",
   "execution_count": 28,
   "id": "eaadcb3e",
   "metadata": {},
   "outputs": [],
   "source": [
    "\n",
    "# === Label Encode all cluster IDs consistently ===\n",
    "encoder = LabelEncoder()\n",
    "encoded_ids = encoder.fit_transform(cluster_ids)\n",
    "n_clusters = len(encoder.classes_)\n",
    "\n"
   ]
  },
  {
   "cell_type": "code",
   "execution_count": 29,
   "id": "9abaf072",
   "metadata": {},
   "outputs": [
    {
     "data": {
      "text/plain": [
       "array([10, 10, 10, 10,  3])"
      ]
     },
     "execution_count": 29,
     "metadata": {},
     "output_type": "execute_result"
    }
   ],
   "source": [
    "# === Build X, y sequences ===\n",
    "window_size = 15\n",
    "X, y = [], []\n",
    "for i in range(len(encoded_ids) - window_size):\n",
    "    X.append(encoded_ids[i:i+window_size])\n",
    "    y.append(encoded_ids[i+window_size])\n",
    "\n",
    "X = np.array(X)\n",
    "y = np.array(y)\n",
    "# Confirm y is now defined\n",
    "y[:5]"
   ]
  },
  {
   "cell_type": "code",
   "execution_count": 30,
   "id": "b2170a0f",
   "metadata": {},
   "outputs": [],
   "source": [
    "# === Train-test split ===\n",
    "X_train, X_test, y_train, y_test = train_test_split(\n",
    "    X, y, test_size=0.2, random_state=42, shuffle=False\n",
    ")\n"
   ]
  },
  {
   "cell_type": "code",
   "execution_count": 31,
   "id": "2dffabea",
   "metadata": {},
   "outputs": [],
   "source": [
    "# === Class weights to handle imbalance ===\n",
    "class_weights = compute_class_weight(\n",
    "    class_weight=\"balanced\",\n",
    "    classes=np.unique(y_train),\n",
    "    y=y_train\n",
    ")\n",
    "class_weight_dict = {i: w for i, w in enumerate(class_weights)}"
   ]
  },
  {
   "cell_type": "code",
   "execution_count": 32,
   "id": "0ba8e05b",
   "metadata": {},
   "outputs": [],
   "source": [
    "early_stopping = EarlyStopping(\n",
    "    monitor='val_loss',\n",
    "    patience=10,            # Stop after 10 epochs without improvement\n",
    "    restore_best_weights=True,\n",
    "    verbose=1\n",
    ")"
   ]
  },
  {
   "cell_type": "code",
   "execution_count": 33,
   "id": "98957643",
   "metadata": {},
   "outputs": [
    {
     "name": "stdout",
     "output_type": "stream",
     "text": [
      "Epoch 1/100\n",
      "\u001b[1m42/42\u001b[0m \u001b[32m━━━━━━━━━━━━━━━━━━━━\u001b[0m\u001b[37m\u001b[0m \u001b[1m1s\u001b[0m 10ms/step - accuracy: 0.3540 - loss: 2.1872 - val_accuracy: 0.0604 - val_loss: 2.5758\n",
      "Epoch 2/100\n",
      "\u001b[1m42/42\u001b[0m \u001b[32m━━━━━━━━━━━━━━━━━━━━\u001b[0m\u001b[37m\u001b[0m \u001b[1m0s\u001b[0m 6ms/step - accuracy: 0.5051 - loss: 1.3159 - val_accuracy: 0.2416 - val_loss: 2.5742\n",
      "Epoch 3/100\n",
      "\u001b[1m42/42\u001b[0m \u001b[32m━━━━━━━━━━━━━━━━━━━━\u001b[0m\u001b[37m\u001b[0m \u001b[1m0s\u001b[0m 6ms/step - accuracy: 0.6835 - loss: 1.0097 - val_accuracy: 0.2953 - val_loss: 2.6129\n",
      "Epoch 4/100\n",
      "\u001b[1m42/42\u001b[0m \u001b[32m━━━━━━━━━━━━━━━━━━━━\u001b[0m\u001b[37m\u001b[0m \u001b[1m0s\u001b[0m 6ms/step - accuracy: 0.7669 - loss: 0.8181 - val_accuracy: 0.3154 - val_loss: 2.2373\n",
      "Epoch 5/100\n",
      "\u001b[1m42/42\u001b[0m \u001b[32m━━━━━━━━━━━━━━━━━━━━\u001b[0m\u001b[37m\u001b[0m \u001b[1m0s\u001b[0m 7ms/step - accuracy: 0.7708 - loss: 0.7477 - val_accuracy: 0.2886 - val_loss: 2.5224\n",
      "Epoch 6/100\n",
      "\u001b[1m42/42\u001b[0m \u001b[32m━━━━━━━━━━━━━━━━━━━━\u001b[0m\u001b[37m\u001b[0m \u001b[1m0s\u001b[0m 7ms/step - accuracy: 0.8160 - loss: 0.6372 - val_accuracy: 0.3087 - val_loss: 2.4324\n",
      "Epoch 7/100\n",
      "\u001b[1m42/42\u001b[0m \u001b[32m━━━━━━━━━━━━━━━━━━━━\u001b[0m\u001b[37m\u001b[0m \u001b[1m0s\u001b[0m 6ms/step - accuracy: 0.8075 - loss: 0.6481 - val_accuracy: 0.3154 - val_loss: 2.5200\n",
      "Epoch 8/100\n",
      "\u001b[1m42/42\u001b[0m \u001b[32m━━━━━━━━━━━━━━━━━━━━\u001b[0m\u001b[37m\u001b[0m \u001b[1m0s\u001b[0m 6ms/step - accuracy: 0.8128 - loss: 0.5888 - val_accuracy: 0.2886 - val_loss: 2.5923\n",
      "Epoch 9/100\n",
      "\u001b[1m42/42\u001b[0m \u001b[32m━━━━━━━━━━━━━━━━━━━━\u001b[0m\u001b[37m\u001b[0m \u001b[1m0s\u001b[0m 6ms/step - accuracy: 0.8284 - loss: 0.5560 - val_accuracy: 0.2886 - val_loss: 2.4506\n",
      "Epoch 10/100\n",
      "\u001b[1m42/42\u001b[0m \u001b[32m━━━━━━━━━━━━━━━━━━━━\u001b[0m\u001b[37m\u001b[0m \u001b[1m0s\u001b[0m 6ms/step - accuracy: 0.8473 - loss: 0.5087 - val_accuracy: 0.2953 - val_loss: 2.6165\n",
      "Epoch 11/100\n",
      "\u001b[1m42/42\u001b[0m \u001b[32m━━━━━━━━━━━━━━━━━━━━\u001b[0m\u001b[37m\u001b[0m \u001b[1m0s\u001b[0m 6ms/step - accuracy: 0.8450 - loss: 0.5181 - val_accuracy: 0.3758 - val_loss: 2.3955\n",
      "Epoch 12/100\n",
      "\u001b[1m42/42\u001b[0m \u001b[32m━━━━━━━━━━━━━━━━━━━━\u001b[0m\u001b[37m\u001b[0m \u001b[1m0s\u001b[0m 6ms/step - accuracy: 0.8596 - loss: 0.4843 - val_accuracy: 0.3356 - val_loss: 2.7980\n",
      "Epoch 13/100\n",
      "\u001b[1m42/42\u001b[0m \u001b[32m━━━━━━━━━━━━━━━━━━━━\u001b[0m\u001b[37m\u001b[0m \u001b[1m0s\u001b[0m 6ms/step - accuracy: 0.8390 - loss: 0.5159 - val_accuracy: 0.3758 - val_loss: 2.8088\n",
      "Epoch 14/100\n",
      "\u001b[1m42/42\u001b[0m \u001b[32m━━━━━━━━━━━━━━━━━━━━\u001b[0m\u001b[37m\u001b[0m \u001b[1m0s\u001b[0m 6ms/step - accuracy: 0.8621 - loss: 0.4580 - val_accuracy: 0.3960 - val_loss: 2.8011\n",
      "Epoch 14: early stopping\n",
      "Restoring model weights from the end of the best epoch: 4.\n",
      "\n",
      "✅ LSTM accuracy: 3.23%\n"
     ]
    }
   ],
   "source": [
    "# === Build Improved LSTM Model ===\n",
    "model = Sequential([\n",
    "    Embedding(input_dim=n_clusters, output_dim=64),         # richer embedding\n",
    "    LSTM(64, return_sequences=True),\n",
    "    Dropout(0.2),\n",
    "    LSTM(32),\n",
    "    Dense(n_clusters, activation='softmax')\n",
    "])\n",
    "\n",
    "model.compile(optimizer='adam', loss='sparse_categorical_crossentropy', metrics=['accuracy'])\n",
    "\n",
    "# === Train ===\n",
    "history = model.fit(\n",
    "    X_train, y_train,\n",
    "    epochs=100,\n",
    "    batch_size=32,\n",
    "    validation_split=0.1,\n",
    "    #class_weight=class_weight_dict,\n",
    "    callbacks=[early_stopping],    \n",
    "    verbose=1\n",
    ")\n",
    "\n",
    "# === Evaluate ===\n",
    "loss, acc = model.evaluate(X_test, y_test, verbose=0)\n",
    "print(f\"\\n✅ LSTM accuracy: {acc * 100:.2f}%\")"
   ]
  }
 ],
 "metadata": {
  "kernelspec": {
   "display_name": ".venv",
   "language": "python",
   "name": "python3"
  },
  "language_info": {
   "codemirror_mode": {
    "name": "ipython",
    "version": 3
   },
   "file_extension": ".py",
   "mimetype": "text/x-python",
   "name": "python",
   "nbconvert_exporter": "python",
   "pygments_lexer": "ipython3",
   "version": "3.12.4"
  }
 },
 "nbformat": 4,
 "nbformat_minor": 5
}
