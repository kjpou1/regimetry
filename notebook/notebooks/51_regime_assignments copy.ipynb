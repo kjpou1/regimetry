{
 "cells": [
  {
   "cell_type": "code",
   "execution_count": 10,
   "id": "cb500211",
   "metadata": {},
   "outputs": [],
   "source": [
    "import pandas as pd\n",
    "import numpy as np\n",
    "import json\n",
    "import os\n",
    "from pathlib import Path\n",
    "\n",
    "from sklearn.metrics import confusion_matrix\n",
    "from scipy.optimize import linear_sum_assignment"
   ]
  },
  {
   "cell_type": "code",
   "execution_count": 11,
   "id": "bd900e19",
   "metadata": {},
   "outputs": [],
   "source": [
    "regime_df = pd.read_csv(\n",
    "    \"../../artifacts/reports/GBP_USD/ws5/learnable64/default/nc8/regime_assignments_26.csv\"\n",
    ")"
   ]
  },
  {
   "cell_type": "code",
   "execution_count": 12,
   "id": "f8844e4d",
   "metadata": {},
   "outputs": [],
   "source": [
    "metadata_dir = Path(\"../../artifacts/baseline_metadata/GBP_USD/ws5/learnable64/default/nc8\")\n",
    "\n",
    "baseline_path = metadata_dir / \"regime_assignments_baseline.csv\"\n",
    "mapping_path = metadata_dir / \"regime_label_mapping.json\"\n",
    "\n",
    "baseline_series = pd.read_csv(baseline_path)[\"Cluster_ID\"].dropna().astype(int)\n",
    "existing_mapping = {}\n",
    "\n",
    "if mapping_path.exists():\n",
    "    with open(mapping_path, \"r\", encoding=\"utf-8\") as f:\n",
    "        existing_mapping = json.load(f)\n",
    "        existing_mapping = {int(k): int(v) for k, v in existing_mapping.items()}\n"
   ]
  },
  {
   "cell_type": "code",
   "execution_count": 13,
   "id": "8a5c4b7d",
   "metadata": {},
   "outputs": [
    {
     "name": "stdout",
     "output_type": "stream",
     "text": [
      "🔁 Existing Mapping: {1: 0, 3: 1, 2: 2, 7: 3, 4: 4, 5: 5, 0: 6, 6: 7}\n",
      "🔄 New Hungarian Mapping: {0: 0, 1: 1, 2: 2, 3: 3, 4: 4, 5: 5, 6: 6, 7: 7}\n",
      "⚠️ Mappings differ.\n"
     ]
    }
   ],
   "source": [
    "# Step 1: Extract current cluster labels\n",
    "current_series = regime_df[\"Cluster_ID\"].dropna().astype(int)\n",
    "\n",
    "# Step 2: Align series lengths\n",
    "min_len = min(len(current_series), len(baseline_series))\n",
    "baseline_trimmed = baseline_series.iloc[:min_len].to_numpy()\n",
    "current_trimmed = current_series.iloc[:min_len].to_numpy()\n",
    "\n",
    "# Step 3: Compute confusion matrix across shared label space\n",
    "all_labels = sorted(set(current_trimmed) | set(baseline_trimmed))\n",
    "conf_matrix = confusion_matrix(baseline_trimmed, current_trimmed, labels=all_labels)\n",
    "\n",
    "# Step 4: Hungarian alignment\n",
    "row_ind, col_ind = linear_sum_assignment(-conf_matrix)\n",
    "new_mapping = {all_labels[col]: all_labels[row] for row, col in zip(row_ind, col_ind)}\n",
    "# Convert to pure int dict for clean display\n",
    "clean_mapping = {int(k): int(v) for k, v in new_mapping.items()}\n",
    "# Step 5: Print comparison\n",
    "print(\"🔁 Existing Mapping:\", existing_mapping)\n",
    "print(\"🔄 New Hungarian Mapping:\", clean_mapping)\n",
    "\n",
    "# Optional: check if mappings match\n",
    "if new_mapping == existing_mapping:\n",
    "    print(\"✅ Mappings are identical.\")\n",
    "else:\n",
    "    print(\"⚠️ Mappings differ.\")"
   ]
  }
 ],
 "metadata": {
  "kernelspec": {
   "display_name": ".venv",
   "language": "python",
   "name": "python3"
  },
  "language_info": {
   "codemirror_mode": {
    "name": "ipython",
    "version": 3
   },
   "file_extension": ".py",
   "mimetype": "text/x-python",
   "name": "python",
   "nbconvert_exporter": "python",
   "pygments_lexer": "ipython3",
   "version": "3.12.4"
  }
 },
 "nbformat": 4,
 "nbformat_minor": 5
}
